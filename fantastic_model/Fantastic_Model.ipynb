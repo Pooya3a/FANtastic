{
 "cells": [
  {
   "cell_type": "markdown",
   "metadata": {},
   "source": [
    "## Machine Learning Model"
   ]
  },
  {
   "cell_type": "code",
   "execution_count": 1,
   "metadata": {},
   "outputs": [],
   "source": [
    "# import python packages\n",
    "import pandas as pd\n",
    "import numpy as np\n",
    "from matplotlib import pyplot\n",
    "import xgboost as xgb\n",
    "from xgboost import XGBClassifier, plot_importance\n",
    "from sklearn.metrics import accuracy_score, confusion_matrix\n",
    "import pickle"
   ]
  },
  {
   "cell_type": "code",
   "execution_count": 2,
   "metadata": {},
   "outputs": [],
   "source": [
    "# import input data and set the seed\n",
    "input_df = pd.read_csv(\"input_df.csv\")\n",
    "seed_number = 42\n",
    "split_pct = \"100/100\""
   ]
  },
  {
   "cell_type": "code",
   "execution_count": 3,
   "metadata": {},
   "outputs": [],
   "source": [
    "# split the data and create training/testing sets\n",
    "def split_train_test_func(input_df_temp, seed_temp, split_pct_temp):\n",
    "    x_data_temp = input_df_temp.iloc[:, :7]\n",
    "    y_data_temp = input_df_temp.iloc[:, 7:]\n",
    "    if split_pct_temp != \"100/100\":\n",
    "        x_train_temp, x_test_temp, y_train_temp, y_test_temp = train_test_split(\n",
    "            x_data_temp,\n",
    "            y_data_temp,\n",
    "            test_size=int(split_pct_temp.split(\"/\", 1)[1]) / 100,\n",
    "            random_state=seed_temp,\n",
    "        )\n",
    "    else:\n",
    "        x_train_temp, x_test_temp, y_train_temp, y_test_temp = (\n",
    "            x_data_temp,\n",
    "            x_data_temp,\n",
    "            y_data_temp,\n",
    "            y_data_temp,\n",
    "        )\n",
    "    y1_train_temp = y_train_temp.iloc[:, 0:1]\n",
    "    y2_train_temp = y_train_temp.iloc[:, 1:2]\n",
    "    y3_train_temp = y_train_temp.iloc[:, 2:3]\n",
    "    y4_train_temp = y_train_temp.iloc[:, 3:4]\n",
    "    y5_train_temp = y_train_temp.iloc[:, 4:5]\n",
    "    y6_train_temp = y_train_temp.iloc[:, 5:6]\n",
    "    y1_test_temp = y_test_temp.iloc[:, 0:1]\n",
    "    y2_test_temp = y_test_temp.iloc[:, 1:2]\n",
    "    y3_test_temp = y_test_temp.iloc[:, 2:3]\n",
    "    y4_test_temp = y_test_temp.iloc[:, 3:4]\n",
    "    y5_test_temp = y_test_temp.iloc[:, 4:5]\n",
    "    y6_test_temp = y_test_temp.iloc[:, 5:6]\n",
    "    return (x_train_temp, x_test_temp, y1_train_temp, y1_test_temp, y2_train_temp, y2_test_temp, y3_train_temp, y3_test_temp, \n",
    "            y4_train_temp, y4_test_temp, y5_train_temp, y5_test_temp, y6_train_temp, y6_test_temp)\n",
    "\n",
    "\n",
    "# Call the splitter function\n",
    "(x_train, x_test, y1_train, y1_test, y2_train, y2_test, y3_train, y3_test, \n",
    " y4_train, y4_test, y5_train, y5_test, y6_train, y6_test)  = split_train_test_func(input_df, seed_number, split_pct)\n"
   ]
  },
  {
   "cell_type": "code",
   "execution_count": 4,
   "metadata": {
    "scrolled": true
   },
   "outputs": [
    {
     "name": "stderr",
     "output_type": "stream",
     "text": [
      "C:\\Program Files\\Anaconda3\\lib\\site-packages\\sklearn\\preprocessing\\label.py:95: DataConversionWarning: A column-vector y was passed when a 1d array was expected. Please change the shape of y to (n_samples, ), for example using ravel().\n",
      "  y = column_or_1d(y, warn=True)\n",
      "C:\\Program Files\\Anaconda3\\lib\\site-packages\\sklearn\\preprocessing\\label.py:128: DataConversionWarning: A column-vector y was passed when a 1d array was expected. Please change the shape of y to (n_samples, ), for example using ravel().\n",
      "  y = column_or_1d(y, warn=True)\n",
      "C:\\Program Files\\Anaconda3\\lib\\site-packages\\sklearn\\preprocessing\\label.py:151: DeprecationWarning: The truth value of an empty array is ambiguous. Returning False, but in future this will result in an error. Use `array.size > 0` to check that an array is not empty.\n",
      "  if diff:\n"
     ]
    },
    {
     "name": "stdout",
     "output_type": "stream",
     "text": [
      "Model: RETIREMENT_GOAL\n",
      "Testing Set Accuracy: 95.4%\n",
      "Testing Set Confusion Matrix: \n",
      " [[585  20]\n",
      " [ 26 370]]\n",
      "Feature Importance: \n",
      "age 0.1305842\n",
      "tlia 0.30756015\n",
      "sow 0.24226804\n",
      "ret 0.106529206\n",
      "kid 0.010309278\n",
      "est 0.010309278\n",
      "well 0.19243987\n"
     ]
    },
    {
     "data": {
      "image/png": "[encoded data removed]",
      "text/plain": [
       "<Figure size 432x288 with 1 Axes>"
      ]
     },
     "metadata": {},
     "output_type": "display_data"
    },
    {
     "name": "stderr",
     "output_type": "stream",
     "text": [
      "C:\\Program Files\\Anaconda3\\lib\\site-packages\\sklearn\\preprocessing\\label.py:95: DataConversionWarning: A column-vector y was passed when a 1d array was expected. Please change the shape of y to (n_samples, ), for example using ravel().\n",
      "  y = column_or_1d(y, warn=True)\n",
      "C:\\Program Files\\Anaconda3\\lib\\site-packages\\sklearn\\preprocessing\\label.py:128: DataConversionWarning: A column-vector y was passed when a 1d array was expected. Please change the shape of y to (n_samples, ), for example using ravel().\n",
      "  y = column_or_1d(y, warn=True)\n",
      "C:\\Program Files\\Anaconda3\\lib\\site-packages\\sklearn\\preprocessing\\label.py:151: DeprecationWarning: The truth value of an empty array is ambiguous. Returning False, but in future this will result in an error. Use `array.size > 0` to check that an array is not empty.\n",
      "  if diff:\n"
     ]
    },
    {
     "name": "stdout",
     "output_type": "stream",
     "text": [
      "Model: EDUCATION_GOAL\n",
      "Testing Set Accuracy: 94.2%\n",
      "Testing Set Confusion Matrix: \n",
      " [[570  24]\n",
      " [ 34 373]]\n",
      "Feature Importance: \n",
      "age 0.13398694\n",
      "tlia 0.30228758\n",
      "sow 0.16666667\n",
      "ret 0.017973857\n",
      "kid 0.099673204\n",
      "est 0.013071896\n",
      "well 0.26633987\n"
     ]
    },
    {
     "data": {
      "image/png": "[encoded data removed]",
      "text/plain": [
       "<Figure size 432x288 with 1 Axes>"
      ]
     },
     "metadata": {},
     "output_type": "display_data"
    },
    {
     "name": "stderr",
     "output_type": "stream",
     "text": [
      "C:\\Program Files\\Anaconda3\\lib\\site-packages\\sklearn\\preprocessing\\label.py:95: DataConversionWarning: A column-vector y was passed when a 1d array was expected. Please change the shape of y to (n_samples, ), for example using ravel().\n",
      "  y = column_or_1d(y, warn=True)\n",
      "C:\\Program Files\\Anaconda3\\lib\\site-packages\\sklearn\\preprocessing\\label.py:128: DataConversionWarning: A column-vector y was passed when a 1d array was expected. Please change the shape of y to (n_samples, ), for example using ravel().\n",
      "  y = column_or_1d(y, warn=True)\n",
      "C:\\Program Files\\Anaconda3\\lib\\site-packages\\sklearn\\preprocessing\\label.py:151: DeprecationWarning: The truth value of an empty array is ambiguous. Returning False, but in future this will result in an error. Use `array.size > 0` to check that an array is not empty.\n",
      "  if diff:\n"
     ]
    },
    {
     "name": "stdout",
     "output_type": "stream",
     "text": [
      "Model: EMERG_CASH_GOAL\n",
      "Testing Set Accuracy: 95.0%\n",
      "Testing Set Confusion Matrix: \n",
      " [[680  11]\n",
      " [ 39 271]]\n",
      "Feature Importance: \n",
      "age 0.11921708\n",
      "tlia 0.32562277\n",
      "sow 0.3024911\n",
      "ret 0.010676157\n",
      "kid 0.021352313\n",
      "est 0.0053380784\n",
      "well 0.2153025\n"
     ]
    },
    {
     "data": {
      "image/png": "[encoded data removed]",
      "text/plain": [
       "<Figure size 432x288 with 1 Axes>"
      ]
     },
     "metadata": {},
     "output_type": "display_data"
    },
    {
     "name": "stderr",
     "output_type": "stream",
     "text": [
      "C:\\Program Files\\Anaconda3\\lib\\site-packages\\sklearn\\preprocessing\\label.py:95: DataConversionWarning: A column-vector y was passed when a 1d array was expected. Please change the shape of y to (n_samples, ), for example using ravel().\n",
      "  y = column_or_1d(y, warn=True)\n",
      "C:\\Program Files\\Anaconda3\\lib\\site-packages\\sklearn\\preprocessing\\label.py:128: DataConversionWarning: A column-vector y was passed when a 1d array was expected. Please change the shape of y to (n_samples, ), for example using ravel().\n",
      "  y = column_or_1d(y, warn=True)\n",
      "C:\\Program Files\\Anaconda3\\lib\\site-packages\\sklearn\\preprocessing\\label.py:151: DeprecationWarning: The truth value of an empty array is ambiguous. Returning False, but in future this will result in an error. Use `array.size > 0` to check that an array is not empty.\n",
      "  if diff:\n"
     ]
    },
    {
     "name": "stdout",
     "output_type": "stream",
     "text": [
      "Model: ESTATE_PLAN_GOAL\n",
      "Testing Set Accuracy: 95.4%\n",
      "Testing Set Confusion Matrix: \n",
      " [[392  27]\n",
      " [ 19 563]]\n",
      "Feature Importance: \n",
      "age 0.072289154\n",
      "tlia 0.36316696\n",
      "sow 0.29259896\n",
      "ret 0.0103270225\n",
      "kid 0.0103270225\n",
      "est 0.106712565\n",
      "well 0.14457831\n"
     ]
    },
    {
     "data": {
      "image/png": "[encoded data removed]",
      "text/plain": [
       "<Figure size 432x288 with 1 Axes>"
      ]
     },
     "metadata": {},
     "output_type": "display_data"
    },
    {
     "name": "stderr",
     "output_type": "stream",
     "text": [
      "C:\\Program Files\\Anaconda3\\lib\\site-packages\\sklearn\\preprocessing\\label.py:95: DataConversionWarning: A column-vector y was passed when a 1d array was expected. Please change the shape of y to (n_samples, ), for example using ravel().\n",
      "  y = column_or_1d(y, warn=True)\n",
      "C:\\Program Files\\Anaconda3\\lib\\site-packages\\sklearn\\preprocessing\\label.py:128: DataConversionWarning: A column-vector y was passed when a 1d array was expected. Please change the shape of y to (n_samples, ), for example using ravel().\n",
      "  y = column_or_1d(y, warn=True)\n"
     ]
    },
    {
     "name": "stdout",
     "output_type": "stream",
     "text": [
      "Model: INSURANCE_GOAL\n",
      "Testing Set Accuracy: 93.8%\n",
      "Testing Set Confusion Matrix: \n",
      " [[570  24]\n",
      " [ 38 369]]\n",
      "Feature Importance: \n",
      "age 0.18647167\n",
      "tlia 0.2833638\n",
      "sow 0.21937843\n",
      "ret 0.0036563072\n",
      "kid 0.10420475\n",
      "est 0.0\n",
      "well 0.20292504\n"
     ]
    },
    {
     "name": "stderr",
     "output_type": "stream",
     "text": [
      "C:\\Program Files\\Anaconda3\\lib\\site-packages\\sklearn\\preprocessing\\label.py:151: DeprecationWarning: The truth value of an empty array is ambiguous. Returning False, but in future this will result in an error. Use `array.size > 0` to check that an array is not empty.\n",
      "  if diff:\n"
     ]
    },
    {
     "data": {
      "image/png": "[encoded data removed]",
      "text/plain": [
       "<Figure size 432x288 with 1 Axes>"
      ]
     },
     "metadata": {},
     "output_type": "display_data"
    },
    {
     "name": "stderr",
     "output_type": "stream",
     "text": [
      "C:\\Program Files\\Anaconda3\\lib\\site-packages\\sklearn\\preprocessing\\label.py:95: DataConversionWarning: A column-vector y was passed when a 1d array was expected. Please change the shape of y to (n_samples, ), for example using ravel().\n",
      "  y = column_or_1d(y, warn=True)\n",
      "C:\\Program Files\\Anaconda3\\lib\\site-packages\\sklearn\\preprocessing\\label.py:128: DataConversionWarning: A column-vector y was passed when a 1d array was expected. Please change the shape of y to (n_samples, ), for example using ravel().\n",
      "  y = column_or_1d(y, warn=True)\n",
      "C:\\Program Files\\Anaconda3\\lib\\site-packages\\sklearn\\preprocessing\\label.py:151: DeprecationWarning: The truth value of an empty array is ambiguous. Returning False, but in future this will result in an error. Use `array.size > 0` to check that an array is not empty.\n",
      "  if diff:\n"
     ]
    },
    {
     "name": "stdout",
     "output_type": "stream",
     "text": [
      "Model: LONG_TERM_GOAL\n",
      "Testing Set Accuracy: 96.0%\n",
      "Testing Set Confusion Matrix: \n",
      " [[448  24]\n",
      " [ 16 513]]\n",
      "Feature Importance: \n",
      "age 0.1970803\n",
      "tlia 0.31934306\n",
      "sow 0.1970803\n",
      "ret 0.0\n",
      "kid 0.023722628\n",
      "est 0.0054744524\n",
      "well 0.25729927\n"
     ]
    },
    {
     "data": {
      "image/png": "[encoded data removed]",
      "text/plain": [
       "<Figure size 432x288 with 1 Axes>"
      ]
     },
     "metadata": {},
     "output_type": "display_data"
    }
   ],
   "source": [
    "# create XGBoost model\n",
    "def xgb_model_func(x_train_temp, x_test_temp, y_train_temp, y_test_temp, seed_temp):\n",
    "\n",
    "    model_temp = XGBClassifier()\n",
    "    model_temp.fit(x_train_temp, y_train_temp)\n",
    "    y_pred_for_testing_set_temp = model_temp.predict(x_test_temp)\n",
    "    predictions_for_testing_set_temp = [\n",
    "        round(value) for value in y_pred_for_testing_set_temp\n",
    "    ]\n",
    "    # binary classification accuracy of testing set\n",
    "    accuracy_testing_set_temp = accuracy_score(\n",
    "        y_test_temp, predictions_for_testing_set_temp\n",
    "    )\n",
    "    # confusion matrix for testing set\n",
    "    cm_test_temp = confusion_matrix(y_test_temp, predictions_for_testing_set_temp)\n",
    "    print(\n",
    "        f\"Model: {str(y_train_temp.columns[0])}\\n\"\n",
    "        f\"Testing Set Accuracy: {round(accuracy_testing_set_temp * 100.0, 1)}%\\n\"\n",
    "        f\"Testing Set Confusion Matrix: \\n {cm_test_temp}\\n\"\n",
    "        f\"Feature Importance: \"\n",
    "    )\n",
    "    for feat, impor in zip(x_test_temp.columns, model_temp.feature_importances_):\n",
    "        print(feat, impor)\n",
    "    plot_importance(model_temp)\n",
    "    pyplot.show()\n",
    "    return model_temp\n",
    "\n",
    "\n",
    "# call the xgb function\n",
    "model_1 = xgb_model_func(x_train, x_test, y1_train, y1_test, seed_number)\n",
    "model_2 = xgb_model_func(x_train, x_test, y2_train, y2_test, seed_number)\n",
    "model_3 = xgb_model_func(x_train, x_test, y3_train, y3_test, seed_number)\n",
    "model_4 = xgb_model_func(x_train, x_test, y4_train, y4_test, seed_number)\n",
    "model_5 = xgb_model_func(x_train, x_test, y5_train, y5_test, seed_number)\n",
    "model_6 = xgb_model_func(x_train, x_test, y6_train, y6_test, seed_number)"
   ]
  },
  {
   "cell_type": "code",
   "execution_count": 5,
   "metadata": {},
   "outputs": [],
   "source": [
    "# saving model files\n",
    "pickle.dump(model_1, open('model_1.pkl', 'wb'))\n",
    "pickle.dump(model_2, open('model_2.pkl', 'wb'))\n",
    "pickle.dump(model_3, open('model_3.pkl', 'wb'))\n",
    "pickle.dump(model_4, open('model_4.pkl', 'wb'))\n",
    "pickle.dump(model_5, open('model_5.pkl', 'wb'))\n",
    "pickle.dump(model_6, open('model_6.pkl', 'wb'))"
   ]
  },
  {
   "cell_type": "markdown",
   "metadata": {},
   "source": [
    "## Back-End Algorithm"
   ]
  },
  {
   "cell_type": "code",
   "execution_count": 6,
   "metadata": {},
   "outputs": [],
   "source": [
    "# import/load trained models\n",
    "model1 = pickle.load(open('model_1.pkl', 'rb'))\n",
    "model2 = pickle.load(open('model_2.pkl', 'rb'))\n",
    "model3 = pickle.load(open('model_3.pkl', 'rb'))\n",
    "model4 = pickle.load(open('model_4.pkl', 'rb'))\n",
    "model5 = pickle.load(open('model_5.pkl', 'rb'))\n",
    "model6 = pickle.load(open('model_6.pkl', 'rb'))"
   ]
  },
  {
   "cell_type": "code",
   "execution_count": 8,
   "metadata": {},
   "outputs": [],
   "source": [
    "# create a scoring observation\n",
    "age, tlia, sow, ret, kid, est, well = 40, 50000, 0.34, 1, 0, 0, 60"
   ]
  },
  {
   "cell_type": "code",
   "execution_count": 9,
   "metadata": {},
   "outputs": [],
   "source": [
    "# predict probabilities for scoring observation\n",
    "def score_func(age_temp, tlia_temp, sow_temp, ret_temp, kid_temp, est_temp, well_temp, \n",
    "               model_1_temp, model_2_temp, model_3_temp, model_4_temp, model_5_temp, model_6_temp):\n",
    "    score_obs_temp = pd.DataFrame([[age_temp, tlia_temp, sow_temp, ret_temp, kid_temp, est_temp, well_temp]], \n",
    "                                  columns=['age', 'tlia', 'sow', 'ret', 'kid', 'est', 'well'])\n",
    "    y1_score_temp = int(round(model_1_temp.predict_proba(score_obs_temp)[0, 1]*100, 0))\n",
    "    y2_score_temp = int(round(model_2_temp.predict_proba(score_obs_temp)[0, 1]*100, 0))\n",
    "    y3_score_temp = int(round(model_3_temp.predict_proba(score_obs_temp)[0, 1]*100, 0))\n",
    "    y4_score_temp = int(round(model_4_temp.predict_proba(score_obs_temp)[0, 1]*100, 0))\n",
    "    y5_score_temp = int(round(model_5_temp.predict_proba(score_obs_temp)[0, 1]*100, 0))\n",
    "    y6_score_temp = int(round(model_6_temp.predict_proba(score_obs_temp)[0, 1]*100, 0))\n",
    "    return y1_score_temp, y2_score_temp, y3_score_temp, y4_score_temp, y5_score_temp, y6_score_temp\n",
    "\n",
    "# call scoring function\n",
    "y1_score, y2_score, y3_score, y4_score, y5_score, y6_score = score_func(age, tlia, sow, ret, kid, est, well, \n",
    "                                                              model1, model2, model3, model4, model5, model6)"
   ]
  },
  {
   "cell_type": "code",
   "execution_count": 10,
   "metadata": {},
   "outputs": [],
   "source": [
    "# define a function to sort goals\n",
    "def rank_goals_func(y1_score_temp, y2_score_temp, y3_score_temp, y4_score_temp, y5_score_temp, y6_score_temp):\n",
    "    goals_temp = {'Retirement Goal': y1_score_temp, 'Education Goal': y2_score_temp, \n",
    "                  'Emergency Cash Goal': y3_score_temp, 'Estate Plan Goal': y4_score_temp, \n",
    "                  'Term Life Insurance Goal': y5_score_temp, 'Long Term Care Goal': y6_score_temp}\n",
    "    sorted_goals_temp = sorted(goals_temp.items(), key=lambda x: x[1], reverse=True)\n",
    "    selected_goals_temp = pd.DataFrame(sorted_goals_temp[0:3], columns=['Goals', 'Scores'])\n",
    "    return selected_goals_temp\n",
    "\n",
    "# call the goals sorter function\n",
    "selected_goals = rank_goals_func(y1_score, y2_score, y3_score, y4_score, y5_score, y6_score)"
   ]
  },
  {
   "cell_type": "code",
   "execution_count": 11,
   "metadata": {},
   "outputs": [
    {
     "data": {
      "text/html": [
       "<div>\n",
       "<style scoped>\n",
       "    .dataframe tbody tr th:only-of-type {\n",
       "        vertical-align: middle;\n",
       "    }\n",
       "\n",
       "    .dataframe tbody tr th {\n",
       "        vertical-align: top;\n",
       "    }\n",
       "\n",
       "    .dataframe thead th {\n",
       "        text-align: right;\n",
       "    }\n",
       "</style>\n",
       "<table border=\"1\" class=\"dataframe\">\n",
       "  <thead>\n",
       "    <tr style=\"text-align: right;\">\n",
       "      <th></th>\n",
       "      <th>Goals</th>\n",
       "      <th>Scores</th>\n",
       "    </tr>\n",
       "  </thead>\n",
       "  <tbody>\n",
       "    <tr>\n",
       "      <th>0</th>\n",
       "      <td>Retirement Goal</td>\n",
       "      <td>98</td>\n",
       "    </tr>\n",
       "    <tr>\n",
       "      <th>1</th>\n",
       "      <td>Emergency Cash Goal</td>\n",
       "      <td>5</td>\n",
       "    </tr>\n",
       "    <tr>\n",
       "      <th>2</th>\n",
       "      <td>Term Life Insurance Goal</td>\n",
       "      <td>4</td>\n",
       "    </tr>\n",
       "  </tbody>\n",
       "</table>\n",
       "</div>"
      ],
      "text/plain": [
       "                      Goals  Scores\n",
       "0           Retirement Goal      98\n",
       "1       Emergency Cash Goal       5\n",
       "2  Term Life Insurance Goal       4"
      ]
     },
     "execution_count": 11,
     "metadata": {},
     "output_type": "execute_result"
    }
   ],
   "source": [
    "selected_goals"
   ]
  },
  {
   "cell_type": "code",
   "execution_count": 12,
   "metadata": {},
   "outputs": [],
   "source": [
    "xref_table = pd.read_csv('xref_table.csv')"
   ]
  },
  {
   "cell_type": "code",
   "execution_count": 13,
   "metadata": {},
   "outputs": [
    {
     "data": {
      "text/html": [
       "<div>\n",
       "<style scoped>\n",
       "    .dataframe tbody tr th:only-of-type {\n",
       "        vertical-align: middle;\n",
       "    }\n",
       "\n",
       "    .dataframe tbody tr th {\n",
       "        vertical-align: top;\n",
       "    }\n",
       "\n",
       "    .dataframe thead th {\n",
       "        text-align: right;\n",
       "    }\n",
       "</style>\n",
       "<table border=\"1\" class=\"dataframe\">\n",
       "  <thead>\n",
       "    <tr style=\"text-align: right;\">\n",
       "      <th></th>\n",
       "      <th>Goals</th>\n",
       "      <th>EQ Questions</th>\n",
       "      <th>Resources</th>\n",
       "      <th>Field Helpfulness</th>\n",
       "    </tr>\n",
       "  </thead>\n",
       "  <tbody>\n",
       "    <tr>\n",
       "      <th>0</th>\n",
       "      <td>Retirement Goal</td>\n",
       "      <td>Think about the extra 40 hours a week that you...</td>\n",
       "      <td>Review WEB5092082 for the “Planning for Long-t...</td>\n",
       "      <td>0.89</td>\n",
       "    </tr>\n",
       "    <tr>\n",
       "      <th>1</th>\n",
       "      <td>Education Goal</td>\n",
       "      <td>Have you thought about how much this might cos...</td>\n",
       "      <td>Review WEB147334 for the Paying for Education ...</td>\n",
       "      <td>0.86</td>\n",
       "    </tr>\n",
       "    <tr>\n",
       "      <th>2</th>\n",
       "      <td>Emergency Cash Goal</td>\n",
       "      <td>Tell me about your approach to emergency savin...</td>\n",
       "      <td>Review WEB5170662 for the “Three Milestones on...</td>\n",
       "      <td>0.79</td>\n",
       "    </tr>\n",
       "    <tr>\n",
       "      <th>3</th>\n",
       "      <td>Estate Plan Goal</td>\n",
       "      <td>What does leaving an inheritance mean to you p...</td>\n",
       "      <td>Review WEB609328 for the “Planning Your Estate...</td>\n",
       "      <td>0.81</td>\n",
       "    </tr>\n",
       "    <tr>\n",
       "      <th>4</th>\n",
       "      <td>Term Life Insurance Goal</td>\n",
       "      <td>How worried are you about providing for your f...</td>\n",
       "      <td>Review WEB615954 for the “Preparing for the Un...</td>\n",
       "      <td>0.93</td>\n",
       "    </tr>\n",
       "    <tr>\n",
       "      <th>5</th>\n",
       "      <td>Long Term Care Goal</td>\n",
       "      <td>What research have you done on potential healt...</td>\n",
       "      <td>Review WEB5092082 for the “Planning for Long-t...</td>\n",
       "      <td>0.91</td>\n",
       "    </tr>\n",
       "  </tbody>\n",
       "</table>\n",
       "</div>"
      ],
      "text/plain": [
       "                      Goals  \\\n",
       "0           Retirement Goal   \n",
       "1            Education Goal   \n",
       "2       Emergency Cash Goal   \n",
       "3          Estate Plan Goal   \n",
       "4  Term Life Insurance Goal   \n",
       "5       Long Term Care Goal   \n",
       "\n",
       "                                        EQ Questions  \\\n",
       "0  Think about the extra 40 hours a week that you...   \n",
       "1  Have you thought about how much this might cos...   \n",
       "2  Tell me about your approach to emergency savin...   \n",
       "3  What does leaving an inheritance mean to you p...   \n",
       "4  How worried are you about providing for your f...   \n",
       "5  What research have you done on potential healt...   \n",
       "\n",
       "                                           Resources  Field Helpfulness  \n",
       "0  Review WEB5092082 for the “Planning for Long-t...               0.89  \n",
       "1  Review WEB147334 for the Paying for Education ...               0.86  \n",
       "2  Review WEB5170662 for the “Three Milestones on...               0.79  \n",
       "3  Review WEB609328 for the “Planning Your Estate...               0.81  \n",
       "4  Review WEB615954 for the “Preparing for the Un...               0.93  \n",
       "5  Review WEB5092082 for the “Planning for Long-t...               0.91  "
      ]
     },
     "execution_count": 13,
     "metadata": {},
     "output_type": "execute_result"
    }
   ],
   "source": [
    "xref_table"
   ]
  },
  {
   "cell_type": "code",
   "execution_count": 14,
   "metadata": {},
   "outputs": [],
   "source": [
    "final_table = selected_goals.merge(xref_table, how=\"left\", left_on=\"Goals\", right_on=\"Goals\")\n",
    "final_table = final_table[[\"Goals\", \"EQ Questions\", \"Resources\", \"Field Helpfulness\"]]"
   ]
  },
  {
   "cell_type": "code",
   "execution_count": 15,
   "metadata": {},
   "outputs": [
    {
     "data": {
      "text/html": [
       "<div>\n",
       "<style scoped>\n",
       "    .dataframe tbody tr th:only-of-type {\n",
       "        vertical-align: middle;\n",
       "    }\n",
       "\n",
       "    .dataframe tbody tr th {\n",
       "        vertical-align: top;\n",
       "    }\n",
       "\n",
       "    .dataframe thead th {\n",
       "        text-align: right;\n",
       "    }\n",
       "</style>\n",
       "<table border=\"1\" class=\"dataframe\">\n",
       "  <thead>\n",
       "    <tr style=\"text-align: right;\">\n",
       "      <th></th>\n",
       "      <th>Goals</th>\n",
       "      <th>EQ Questions</th>\n",
       "      <th>Resources</th>\n",
       "      <th>Field Helpfulness</th>\n",
       "    </tr>\n",
       "  </thead>\n",
       "  <tbody>\n",
       "    <tr>\n",
       "      <th>0</th>\n",
       "      <td>Retirement Goal</td>\n",
       "      <td>Think about the extra 40 hours a week that you...</td>\n",
       "      <td>Review WEB5092082 for the “Planning for Long-t...</td>\n",
       "      <td>0.89</td>\n",
       "    </tr>\n",
       "    <tr>\n",
       "      <th>1</th>\n",
       "      <td>Emergency Cash Goal</td>\n",
       "      <td>Tell me about your approach to emergency savin...</td>\n",
       "      <td>Review WEB5170662 for the “Three Milestones on...</td>\n",
       "      <td>0.79</td>\n",
       "    </tr>\n",
       "    <tr>\n",
       "      <th>2</th>\n",
       "      <td>Term Life Insurance Goal</td>\n",
       "      <td>How worried are you about providing for your f...</td>\n",
       "      <td>Review WEB615954 for the “Preparing for the Un...</td>\n",
       "      <td>0.93</td>\n",
       "    </tr>\n",
       "  </tbody>\n",
       "</table>\n",
       "</div>"
      ],
      "text/plain": [
       "                      Goals  \\\n",
       "0           Retirement Goal   \n",
       "1       Emergency Cash Goal   \n",
       "2  Term Life Insurance Goal   \n",
       "\n",
       "                                        EQ Questions  \\\n",
       "0  Think about the extra 40 hours a week that you...   \n",
       "1  Tell me about your approach to emergency savin...   \n",
       "2  How worried are you about providing for your f...   \n",
       "\n",
       "                                           Resources  Field Helpfulness  \n",
       "0  Review WEB5092082 for the “Planning for Long-t...               0.89  \n",
       "1  Review WEB5170662 for the “Three Milestones on...               0.79  \n",
       "2  Review WEB615954 for the “Preparing for the Un...               0.93  "
      ]
     },
     "execution_count": 15,
     "metadata": {},
     "output_type": "execute_result"
    }
   ],
   "source": [
    "final_table"
   ]
  },
  {
   "cell_type": "markdown",
   "metadata": {},
   "source": [
    "## Front-End Data Samples"
   ]
  },
  {
   "cell_type": "code",
   "execution_count": 10,
   "metadata": {},
   "outputs": [],
   "source": [
    "import pandas as pd\n",
    "df_to_json = pd.read_csv('cases.csv')"
   ]
  },
  {
   "cell_type": "code",
   "execution_count": 16,
   "metadata": {},
   "outputs": [
    {
     "data": {
      "text/html": [
       "<div>\n",
       "<style scoped>\n",
       "    .dataframe tbody tr th:only-of-type {\n",
       "        vertical-align: middle;\n",
       "    }\n",
       "\n",
       "    .dataframe tbody tr th {\n",
       "        vertical-align: top;\n",
       "    }\n",
       "\n",
       "    .dataframe thead th {\n",
       "        text-align: right;\n",
       "    }\n",
       "</style>\n",
       "<table border=\"1\" class=\"dataframe\">\n",
       "  <thead>\n",
       "    <tr style=\"text-align: right;\">\n",
       "      <th></th>\n",
       "      <th>ID</th>\n",
       "      <th>Age</th>\n",
       "      <th>Total Liquid Investable Assets</th>\n",
       "      <th>Share of Wallet</th>\n",
       "      <th>Living in Retirement</th>\n",
       "      <th>Kids</th>\n",
       "      <th>Estate Need</th>\n",
       "      <th>Wellness Score</th>\n",
       "      <th>Goals_1</th>\n",
       "      <th>EQ Questions_1</th>\n",
       "      <th>Reseources_1</th>\n",
       "      <th>Field Helpfulness_1</th>\n",
       "      <th>Goals_2</th>\n",
       "      <th>EQ Questions_2</th>\n",
       "      <th>Reseources_2</th>\n",
       "      <th>Field Helpfulness_2</th>\n",
       "      <th>Goals_3</th>\n",
       "      <th>EQ Questions_3</th>\n",
       "      <th>Reseources_3</th>\n",
       "      <th>Field Helpfulness_3</th>\n",
       "    </tr>\n",
       "  </thead>\n",
       "  <tbody>\n",
       "    <tr>\n",
       "      <th>0</th>\n",
       "      <td>1</td>\n",
       "      <td>30</td>\n",
       "      <td>50000</td>\n",
       "      <td>0.2</td>\n",
       "      <td>0</td>\n",
       "      <td>2</td>\n",
       "      <td>0</td>\n",
       "      <td>50</td>\n",
       "      <td>Term Life Insurance Goal</td>\n",
       "      <td>How worried are you about providing for your f...</td>\n",
       "      <td>Review WEB615954 for the \"Preparing for the Un...</td>\n",
       "      <td>0.93</td>\n",
       "      <td>Education Goal</td>\n",
       "      <td>Have you thought about how much this might cos...</td>\n",
       "      <td>Review WEB147334 for the Paying for Education ...</td>\n",
       "      <td>0.86</td>\n",
       "      <td>Retirement Goal</td>\n",
       "      <td>Think about the extra 40 hours a week that you...</td>\n",
       "      <td>Review WEB046258 for the \"Planning for Retirem...</td>\n",
       "      <td>0.89</td>\n",
       "    </tr>\n",
       "    <tr>\n",
       "      <th>1</th>\n",
       "      <td>2</td>\n",
       "      <td>65</td>\n",
       "      <td>200000</td>\n",
       "      <td>0.4</td>\n",
       "      <td>1</td>\n",
       "      <td>0</td>\n",
       "      <td>1</td>\n",
       "      <td>20</td>\n",
       "      <td>Retirement Goal</td>\n",
       "      <td>Think about the extra 40 hours a week that you...</td>\n",
       "      <td>Review WEB046258 for the \"Planning for Retirem...</td>\n",
       "      <td>0.89</td>\n",
       "      <td>Long Term Care Goal</td>\n",
       "      <td>What research have you done on potential healt...</td>\n",
       "      <td>Review WEB5092082 for the \"Planning for Long-t...</td>\n",
       "      <td>0.91</td>\n",
       "      <td>Estate Plan Goal</td>\n",
       "      <td>What does leaving an inheritance mean to you p...</td>\n",
       "      <td>Review WEB609328 for the \"Planning Your Estate...</td>\n",
       "      <td>0.81</td>\n",
       "    </tr>\n",
       "    <tr>\n",
       "      <th>2</th>\n",
       "      <td>3</td>\n",
       "      <td>50</td>\n",
       "      <td>60000</td>\n",
       "      <td>0.7</td>\n",
       "      <td>0</td>\n",
       "      <td>1</td>\n",
       "      <td>0</td>\n",
       "      <td>90</td>\n",
       "      <td>Education Goal</td>\n",
       "      <td>Have you thought about how much this might cos...</td>\n",
       "      <td>Review WEB147334 for the Paying for Education ...</td>\n",
       "      <td>0.86</td>\n",
       "      <td>Term Life Insurance Goal</td>\n",
       "      <td>How worried are you about providing for your f...</td>\n",
       "      <td>Review WEB615954 for the \"Preparing for the Un...</td>\n",
       "      <td>0.93</td>\n",
       "      <td>Emergency Cash Goal</td>\n",
       "      <td>Tell me about your approach to emergency savin...</td>\n",
       "      <td>Review WEB5170662 for the \"Three Milestones on...</td>\n",
       "      <td>0.79</td>\n",
       "    </tr>\n",
       "    <tr>\n",
       "      <th>3</th>\n",
       "      <td>4</td>\n",
       "      <td>25</td>\n",
       "      <td>5000</td>\n",
       "      <td>0.5</td>\n",
       "      <td>0</td>\n",
       "      <td>1</td>\n",
       "      <td>0</td>\n",
       "      <td>80</td>\n",
       "      <td>Education Goal</td>\n",
       "      <td>Have you thought about how much this might cos...</td>\n",
       "      <td>Review WEB147334 for the Paying for Education ...</td>\n",
       "      <td>0.86</td>\n",
       "      <td>Emergency Cash Goal</td>\n",
       "      <td>Tell me about your approach to emergency savin...</td>\n",
       "      <td>Review WEB5170662 for the \"Three Milestones on...</td>\n",
       "      <td>0.79</td>\n",
       "      <td>Term Life Insurance Goal</td>\n",
       "      <td>How worried are you about providing for your f...</td>\n",
       "      <td>Review WEB615954 for the \"Preparing for the Un...</td>\n",
       "      <td>0.93</td>\n",
       "    </tr>\n",
       "    <tr>\n",
       "      <th>4</th>\n",
       "      <td>5</td>\n",
       "      <td>85</td>\n",
       "      <td>5000000</td>\n",
       "      <td>0.5</td>\n",
       "      <td>1</td>\n",
       "      <td>0</td>\n",
       "      <td>1</td>\n",
       "      <td>70</td>\n",
       "      <td>Long Term Care Goal</td>\n",
       "      <td>What research have you done on potential healt...</td>\n",
       "      <td>Review WEB5092082 for the \"Planning for Long-t...</td>\n",
       "      <td>0.91</td>\n",
       "      <td>Estate Plan Goal</td>\n",
       "      <td>What does leaving an inheritance mean to you p...</td>\n",
       "      <td>Review WEB609328 for the \"Planning Your Estate...</td>\n",
       "      <td>0.81</td>\n",
       "      <td>Retirement Goal</td>\n",
       "      <td>Think about the extra 40 hours a week that you...</td>\n",
       "      <td>Review WEB046258 for the \"Planning for Retirem...</td>\n",
       "      <td>0.89</td>\n",
       "    </tr>\n",
       "  </tbody>\n",
       "</table>\n",
       "</div>"
      ],
      "text/plain": [
       "   ID  Age  Total Liquid Investable Assets  Share of Wallet  \\\n",
       "0   1   30                           50000              0.2   \n",
       "1   2   65                          200000              0.4   \n",
       "2   3   50                           60000              0.7   \n",
       "3   4   25                            5000              0.5   \n",
       "4   5   85                         5000000              0.5   \n",
       "\n",
       "   Living in Retirement  Kids  Estate Need  Wellness Score  \\\n",
       "0                     0     2            0              50   \n",
       "1                     1     0            1              20   \n",
       "2                     0     1            0              90   \n",
       "3                     0     1            0              80   \n",
       "4                     1     0            1              70   \n",
       "\n",
       "                    Goals_1  \\\n",
       "0  Term Life Insurance Goal   \n",
       "1           Retirement Goal   \n",
       "2            Education Goal   \n",
       "3            Education Goal   \n",
       "4       Long Term Care Goal   \n",
       "\n",
       "                                      EQ Questions_1  \\\n",
       "0  How worried are you about providing for your f...   \n",
       "1  Think about the extra 40 hours a week that you...   \n",
       "2  Have you thought about how much this might cos...   \n",
       "3  Have you thought about how much this might cos...   \n",
       "4  What research have you done on potential healt...   \n",
       "\n",
       "                                        Reseources_1  Field Helpfulness_1  \\\n",
       "0  Review WEB615954 for the \"Preparing for the Un...                 0.93   \n",
       "1  Review WEB046258 for the \"Planning for Retirem...                 0.89   \n",
       "2  Review WEB147334 for the Paying for Education ...                 0.86   \n",
       "3  Review WEB147334 for the Paying for Education ...                 0.86   \n",
       "4  Review WEB5092082 for the \"Planning for Long-t...                 0.91   \n",
       "\n",
       "                    Goals_2  \\\n",
       "0            Education Goal   \n",
       "1       Long Term Care Goal   \n",
       "2  Term Life Insurance Goal   \n",
       "3       Emergency Cash Goal   \n",
       "4          Estate Plan Goal   \n",
       "\n",
       "                                      EQ Questions_2  \\\n",
       "0  Have you thought about how much this might cos...   \n",
       "1  What research have you done on potential healt...   \n",
       "2  How worried are you about providing for your f...   \n",
       "3  Tell me about your approach to emergency savin...   \n",
       "4  What does leaving an inheritance mean to you p...   \n",
       "\n",
       "                                        Reseources_2  Field Helpfulness_2  \\\n",
       "0  Review WEB147334 for the Paying for Education ...                 0.86   \n",
       "1  Review WEB5092082 for the \"Planning for Long-t...                 0.91   \n",
       "2  Review WEB615954 for the \"Preparing for the Un...                 0.93   \n",
       "3  Review WEB5170662 for the \"Three Milestones on...                 0.79   \n",
       "4  Review WEB609328 for the \"Planning Your Estate...                 0.81   \n",
       "\n",
       "                    Goals_3  \\\n",
       "0           Retirement Goal   \n",
       "1          Estate Plan Goal   \n",
       "2       Emergency Cash Goal   \n",
       "3  Term Life Insurance Goal   \n",
       "4           Retirement Goal   \n",
       "\n",
       "                                      EQ Questions_3  \\\n",
       "0  Think about the extra 40 hours a week that you...   \n",
       "1  What does leaving an inheritance mean to you p...   \n",
       "2  Tell me about your approach to emergency savin...   \n",
       "3  How worried are you about providing for your f...   \n",
       "4  Think about the extra 40 hours a week that you...   \n",
       "\n",
       "                                        Reseources_3  Field Helpfulness_3  \n",
       "0  Review WEB046258 for the \"Planning for Retirem...                 0.89  \n",
       "1  Review WEB609328 for the \"Planning Your Estate...                 0.81  \n",
       "2  Review WEB5170662 for the \"Three Milestones on...                 0.79  \n",
       "3  Review WEB615954 for the \"Preparing for the Un...                 0.93  \n",
       "4  Review WEB046258 for the \"Planning for Retirem...                 0.89  "
      ]
     },
     "execution_count": 16,
     "metadata": {},
     "output_type": "execute_result"
    }
   ],
   "source": [
    "df_to_json"
   ]
  },
  {
   "cell_type": "code",
   "execution_count": 17,
   "metadata": {},
   "outputs": [
    {
     "data": {
      "text/plain": [
       "[{'ID': 1,\n",
       "  'Age': 30,\n",
       "  'Total Liquid Investable Assets': 50000,\n",
       "  'Share of Wallet': 0.2,\n",
       "  'Living in Retirement': 0,\n",
       "  'Kids': 2,\n",
       "  'Estate Need': 0,\n",
       "  'Wellness Score': 50,\n",
       "  'Goals_1': 'Term Life Insurance Goal',\n",
       "  'EQ Questions_1': 'How worried are you about providing for your family and financial goals if something unexpected were to happen to you?',\n",
       "  'Reseources_1': 'Review WEB615954 for the \"Preparing for the Unexpected IPC Guidance\" report',\n",
       "  'Field Helpfulness_1': 0.93,\n",
       "  'Goals_2': 'Education Goal',\n",
       "  'EQ Questions_2': 'Have you thought about how much this might cost and how much you are willing to support? What is your biggest concern with saving for education?',\n",
       "  'Reseources_2': 'Review WEB147334 for the Paying for Education Main Page',\n",
       "  'Field Helpfulness_2': 0.86,\n",
       "  'Goals_3': 'Retirement Goal',\n",
       "  'EQ Questions_3': 'Think about the extra 40 hours a week that you may have for the next 20+ years. What do you plan to do with this time? What would a fulfilling life look like for you in retirement?',\n",
       "  'Reseources_3': 'Review WEB046258 for the \"Planning for Retirement\" report',\n",
       "  'Field Helpfulness_3': 0.89},\n",
       " {'ID': 2,\n",
       "  'Age': 65,\n",
       "  'Total Liquid Investable Assets': 200000,\n",
       "  'Share of Wallet': 0.4,\n",
       "  'Living in Retirement': 1,\n",
       "  'Kids': 0,\n",
       "  'Estate Need': 1,\n",
       "  'Wellness Score': 20,\n",
       "  'Goals_1': 'Retirement Goal',\n",
       "  'EQ Questions_1': 'Think about the extra 40 hours a week that you may have for the next 20+ years. What do you plan to do with this time? What would a fulfilling life look like for you in retirement?',\n",
       "  'Reseources_1': 'Review WEB046258 for the \"Planning for Retirement\" report',\n",
       "  'Field Helpfulness_1': 0.89,\n",
       "  'Goals_2': 'Long Term Care Goal',\n",
       "  'EQ Questions_2': 'What research have you done on potential health care and long-term care costs in retirement? How do you feel about your ability to cover those costs?',\n",
       "  'Reseources_2': 'Review WEB5092082 for the \"Planning for Long-term Care Expense\" report',\n",
       "  'Field Helpfulness_2': 0.91,\n",
       "  'Goals_3': 'Estate Plan Goal',\n",
       "  'EQ Questions_3': 'What does leaving an inheritance mean to you personally? To your family? What would you like to leave, e.g., property, business, collectibles, investments, money?',\n",
       "  'Reseources_3': 'Review WEB609328 for the \"Planning Your Estate: Taking Control of Your Legacy\" report',\n",
       "  'Field Helpfulness_3': 0.81},\n",
       " {'ID': 3,\n",
       "  'Age': 50,\n",
       "  'Total Liquid Investable Assets': 60000,\n",
       "  'Share of Wallet': 0.7,\n",
       "  'Living in Retirement': 0,\n",
       "  'Kids': 1,\n",
       "  'Estate Need': 0,\n",
       "  'Wellness Score': 90,\n",
       "  'Goals_1': 'Education Goal',\n",
       "  'EQ Questions_1': 'Have you thought about how much this might cost and how much you are willing to support? What is your biggest concern with saving for education?',\n",
       "  'Reseources_1': 'Review WEB147334 for the Paying for Education Main Page',\n",
       "  'Field Helpfulness_1': 0.86,\n",
       "  'Goals_2': 'Term Life Insurance Goal',\n",
       "  'EQ Questions_2': 'How worried are you about providing for your family and financial goals if something unexpected were to happen to you?',\n",
       "  'Reseources_2': 'Review WEB615954 for the \"Preparing for the Unexpected IPC Guidance\" report',\n",
       "  'Field Helpfulness_2': 0.93,\n",
       "  'Goals_3': 'Emergency Cash Goal',\n",
       "  'EQ Questions_3': 'Tell me about your approach to emergency savings. How much do you keep on hand? How much would you like to have on hand? How have you handled emergencies in the past?',\n",
       "  'Reseources_3': 'Review WEB5170662 for the \"Three Milestones on the Road to Financial Stability\" report',\n",
       "  'Field Helpfulness_3': 0.79},\n",
       " {'ID': 4,\n",
       "  'Age': 25,\n",
       "  'Total Liquid Investable Assets': 5000,\n",
       "  'Share of Wallet': 0.5,\n",
       "  'Living in Retirement': 0,\n",
       "  'Kids': 1,\n",
       "  'Estate Need': 0,\n",
       "  'Wellness Score': 80,\n",
       "  'Goals_1': 'Education Goal',\n",
       "  'EQ Questions_1': 'Have you thought about how much this might cost and how much you are willing to support? What is your biggest concern with saving for education?',\n",
       "  'Reseources_1': 'Review WEB147334 for the Paying for Education Main Page',\n",
       "  'Field Helpfulness_1': 0.86,\n",
       "  'Goals_2': 'Emergency Cash Goal',\n",
       "  'EQ Questions_2': 'Tell me about your approach to emergency savings. How much do you keep on hand? How much would you like to have on hand? How have you handled emergencies in the past?',\n",
       "  'Reseources_2': 'Review WEB5170662 for the \"Three Milestones on the Road to Financial Stability\" report',\n",
       "  'Field Helpfulness_2': 0.79,\n",
       "  'Goals_3': 'Term Life Insurance Goal',\n",
       "  'EQ Questions_3': 'How worried are you about providing for your family and financial goals if something unexpected were to happen to you?',\n",
       "  'Reseources_3': 'Review WEB615954 for the \"Preparing for the Unexpected IPC Guidance\" report',\n",
       "  'Field Helpfulness_3': 0.93},\n",
       " {'ID': 5,\n",
       "  'Age': 85,\n",
       "  'Total Liquid Investable Assets': 5000000,\n",
       "  'Share of Wallet': 0.5,\n",
       "  'Living in Retirement': 1,\n",
       "  'Kids': 0,\n",
       "  'Estate Need': 1,\n",
       "  'Wellness Score': 70,\n",
       "  'Goals_1': 'Long Term Care Goal',\n",
       "  'EQ Questions_1': 'What research have you done on potential health care and long-term care costs in retirement? How do you feel about your ability to cover those costs?',\n",
       "  'Reseources_1': 'Review WEB5092082 for the \"Planning for Long-term Care Expense\" report',\n",
       "  'Field Helpfulness_1': 0.91,\n",
       "  'Goals_2': 'Estate Plan Goal',\n",
       "  'EQ Questions_2': 'What does leaving an inheritance mean to you personally? To your family? What would you like to leave, e.g., property, business, collectibles, investments, money?',\n",
       "  'Reseources_2': 'Review WEB609328 for the \"Planning Your Estate: Taking Control of Your Legacy\" report',\n",
       "  'Field Helpfulness_2': 0.81,\n",
       "  'Goals_3': 'Retirement Goal',\n",
       "  'EQ Questions_3': 'Think about the extra 40 hours a week that you may have for the next 20+ years. What do you plan to do with this time? What would a fulfilling life look like for you in retirement?',\n",
       "  'Reseources_3': 'Review WEB046258 for the \"Planning for Retirement\" report',\n",
       "  'Field Helpfulness_3': 0.89}]"
      ]
     },
     "execution_count": 17,
     "metadata": {},
     "output_type": "execute_result"
    }
   ],
   "source": [
    "df_to_json.to_dict('records')"
   ]
  }
 ],
 "metadata": {
  "kernelspec": {
   "display_name": "Python 3",
   "language": "python",
   "name": "python3"
  },
  "language_info": {
   "codemirror_mode": {
    "name": "ipython",
    "version": 3
   },
   "file_extension": ".py",
   "mimetype": "text/x-python",
   "name": "python",
   "nbconvert_exporter": "python",
   "pygments_lexer": "ipython3",
   "version": "3.7.4"
  }
 },
 "nbformat": 4,
 "nbformat_minor": 2
}
